{
  "nbformat": 4,
  "nbformat_minor": 0,
  "metadata": {
    "colab": {
      "provenance": [],
      "collapsed_sections": [
        "oC8Q4FdluAf9",
        "QF33L5Ez2QWP",
        "4PVSL6d0oPQV",
        "Z1Gf6Qu_oR0-",
        "weDscTNaZUqU",
        "gjF58Uds-x_R"
      ],
      "toc_visible": true
    },
    "kernelspec": {
      "display_name": "Python 3",
      "name": "python3"
    }
  },
  "cells": [
    {
      "cell_type": "markdown",
      "metadata": {
        "id": "y8f0X0ReQJul"
      },
      "source": [
        "# *GLCM - DWT - LDP - HOG* feature extractors + ML Model\n"
      ]
    },
    {
      "cell_type": "markdown",
      "metadata": {
        "id": "TfbfEjyAQcYz"
      },
      "source": [
        "# Importing Data and Libraries"
      ]
    },
    {
      "cell_type": "code",
      "metadata": {
        "colab": {
          "base_uri": "https://localhost:8080/"
        },
        "id": "cceXnQF_0Npi",
        "outputId": "563283d3-2da6-4248-b1fe-338862eb0195"
      },
      "source": [
        "from google.colab import drive\n",
        "from shutil import copyfile\n",
        "import os\n",
        "\n",
        "drive.mount('/content/drive',force_remount=True)"
      ],
      "execution_count": null,
      "outputs": [
        {
          "output_type": "stream",
          "text": [
            "Mounted at /content/drive\n"
          ],
          "name": "stdout"
        }
      ]
    },
    {
      "cell_type": "markdown",
      "metadata": {
        "id": "oC8Q4FdluAf9"
      },
      "source": [
        "## Importing the train and test sets:"
      ]
    },
    {
      "cell_type": "code",
      "metadata": {
        "colab": {
          "base_uri": "https://localhost:8080/"
        },
        "id": "w4ynoT0aqcRs",
        "outputId": "0d46d4e1-1efa-4514-ab8d-a9ebcf9f76b8"
      },
      "source": [
        "## Train data importing:\n",
        "\n",
        "import glob\n",
        "\n",
        "train_covid_path = glob.glob('/content/drive/MyDrive/Grad_pro Dataset/train/covid/*g')\n",
        "train_normal_path = glob.glob('/content/drive/MyDrive/Grad_pro Dataset/train/normal/*g')\n",
        "train_pneumonia_bacterial_path = glob.glob('/content/drive/MyDrive/Grad_pro Dataset/train/pneumonia_bacterial/*g')\n",
        "train_pneumonia_viral_path = glob.glob('/content/drive/MyDrive/Grad_pro Dataset/train/pneumonia_viral/*g')\n",
        "\n",
        "print('For the training set:\\nThe count of covid cases is {} and the count of normal cases is {} and the count of pneumonia_bacterial cases is {} and the count of pneumonia_viral cases is {}'.format(len(train_covid_path),len(train_normal_path),len(train_pneumonia_bacterial_path),len(train_pneumonia_viral_path)))"
      ],
      "execution_count": null,
      "outputs": [
        {
          "output_type": "stream",
          "text": [
            "For the training set:\n",
            "The count of covid cases is 406 and the count of normal cases is 406 and the count of pneumonia_bacterial cases is 460 and the count of pneumonia_viral cases is 441\n"
          ],
          "name": "stdout"
        }
      ]
    },
    {
      "cell_type": "code",
      "metadata": {
        "colab": {
          "base_uri": "https://localhost:8080/"
        },
        "id": "CU2ypQsJtNbr",
        "outputId": "d108206a-1602-4ad7-aae3-b9c33a1f834a"
      },
      "source": [
        "## Test data importing:\n",
        "\n",
        "test_covid_path = glob.glob('/content/drive/MyDrive/Grad_pro Dataset/test/covid/*g')\n",
        "test_normal_path = glob.glob('/content/drive/MyDrive/Grad_pro Dataset/test/normal/*g')\n",
        "test_pneumonia_bacterial_path = glob.glob('/content/drive/MyDrive/Grad_pro Dataset/test/pneumonia_bacterial/*g')\n",
        "test_pneumonia_viral_path = glob.glob('/content/drive/MyDrive/Grad_pro Dataset/test/pneumonia_viral/*g')\n",
        "\n",
        "print('For the testing set:\\nThe count of covid cases is {} and the count of normal cases is {} and the count of pneumonia_bacterial cases is {} and the count of pneumonia_viral cases is {}'.format(len(test_covid_path),len(test_normal_path),len(test_pneumonia_bacterial_path),len(test_pneumonia_viral_path)))"
      ],
      "execution_count": null,
      "outputs": [
        {
          "output_type": "stream",
          "text": [
            "For the testing set:\n",
            "The count of covid cases is 85 and the count of normal cases is 80 and the count of pneumonia_bacterial cases is 80 and the count of pneumonia_viral cases is 80\n"
          ],
          "name": "stdout"
        }
      ]
    },
    {
      "cell_type": "markdown",
      "metadata": {
        "id": "QF33L5Ez2QWP"
      },
      "source": [
        "# Creating functions"
      ]
    },
    {
      "cell_type": "code",
      "metadata": {
        "id": "9TPTnoQIQXKi"
      },
      "source": [
        "from skimage.io import imread as Imread\n",
        "from skimage.transform import resize\n",
        "\n",
        "def image_read(train_image):\n",
        "  dim = (100,100,3)\n",
        "  image = Imread(train_image)\n",
        "  img_resized = resize(image, dim, anti_aliasing=True, mode='reflect')  \n",
        "  return img_resized"
      ],
      "execution_count": null,
      "outputs": []
    },
    {
      "cell_type": "code",
      "metadata": {
        "id": "8f5mC2wcQgag"
      },
      "source": [
        "import cv2\n",
        "\n",
        "def cv_read(train_image):\n",
        "  im = cv2.imread(train_image)\n",
        "  im = cv2.cvtColor(im, cv2.COLOR_BGR2GRAY)\n",
        "  return im"
      ],
      "execution_count": null,
      "outputs": []
    },
    {
      "cell_type": "code",
      "metadata": {
        "id": "iAjF-izKQhm2"
      },
      "source": [
        "from skimage import feature\n",
        "\n",
        "def lbp_features(image,eps=1e-7):\n",
        "    numPoints, radius = 24, 8\n",
        "    lbp = feature.local_binary_pattern(image, numPoints,radius, method=\"uniform\")\n",
        "    (hist, _) = np.histogram(lbp.ravel(),bins=np.arange(0, numPoints + 3), range=(0, numPoints + 2))\n",
        "    hist = hist.astype(\"float\")\n",
        "    hist /= (hist.sum() + eps)\n",
        "\t\t# return the histogram of Local Binary Patterns\n",
        "    #hist = [hist+5 if eps==1e-5 else hist-1]\n",
        "    return hist"
      ],
      "execution_count": null,
      "outputs": []
    },
    {
      "cell_type": "code",
      "metadata": {
        "id": "YS8tGOtrQicn"
      },
      "source": [
        "from scipy.stats import itemfreq\n",
        "from skimage.feature import greycomatrix, greycoprops,local_binary_pattern\n",
        "\n",
        "def glcm_features(train_image):\n",
        "  ngcm= greycomatrix(train_image, [5], [0], 256, symmetric=False, normed=True)  \n",
        "  contrast = greycoprops(ngcm, 'contrast')\n",
        "  radius = 2\n",
        "  no_points = 8*radius\n",
        "  lbp = local_binary_pattern(train_image, no_points, radius, method='uniform')\n",
        "  x = itemfreq(lbp.ravel())\n",
        "  hist = x[:, 1]/sum(x[:, 1])\n",
        "  hist = hist*10.0\n",
        "  return hist"
      ],
      "execution_count": null,
      "outputs": []
    },
    {
      "cell_type": "code",
      "metadata": {
        "id": "ozOsRD6XQjkE"
      },
      "source": [
        "import pywt\n",
        "import pywt.data\n",
        "\n",
        "def dwt_features(train_image):\n",
        "  coeffs2 = pywt.dwt(train_image, 'bior1.3')\n",
        "  hist = np.array(coeffs2).flatten()\n",
        "  return hist"
      ],
      "execution_count": null,
      "outputs": []
    },
    {
      "cell_type": "code",
      "metadata": {
        "id": "_j0XBMpcYEF1"
      },
      "source": [
        "from skimage.feature import hog\n",
        "\n",
        "def hog_features(train_image):\n",
        "  feat4, _ = hog(train_image,\n",
        "                              visualize=True,\n",
        "                              block_norm='L2-Hys',\n",
        "                              pixels_per_cell=(16, 16))\n",
        "  return feat4[:200]"
      ],
      "execution_count": null,
      "outputs": []
    },
    {
      "cell_type": "markdown",
      "metadata": {
        "id": "-cKiBHcYAR1L"
      },
      "source": [
        "# Importing training and testing data"
      ]
    },
    {
      "cell_type": "markdown",
      "metadata": {
        "id": "4PVSL6d0oPQV"
      },
      "source": [
        "### TRAIN DATA"
      ]
    },
    {
      "cell_type": "code",
      "metadata": {
        "id": "9UVZ352RQl80"
      },
      "source": [
        "import numpy as np\n",
        "\n",
        "train,train_label = [],[]\n",
        "img_hist = []\n",
        "i = 0\n",
        "for train_image in train_covid_path:\n",
        "\n",
        "    img_resized = image_read(train_image)\n",
        "    im = cv_read(train_image)\n",
        "    \n",
        "    feat1 = glcm_features(im)\n",
        "    feat2 = lbp_features(im)\n",
        "    feat3 = hog_features(im)\n",
        "    feat4 = dwt_features(img_resized)\n",
        "\n",
        "    img_hist = list(feat1)+ list(feat2)+list(feat3) + list(feat4) \n",
        "    train.append(img_hist)\n",
        "    train_label.append(0)\n",
        "    i +=1\n",
        "    print(i)"
      ],
      "execution_count": null,
      "outputs": []
    },
    {
      "cell_type": "code",
      "metadata": {
        "id": "zj9ZivOt-n00"
      },
      "source": [
        "i = 0\n",
        "for train_image in train_normal_path:\n",
        "\n",
        "    img_resized = image_read(train_image)\n",
        "    im = cv_read(train_image)\n",
        "    feat1 = glcm_features(im)\n",
        "    feat2= lbp_features(im)\n",
        "    feat3 = hog_features(im)\n",
        "    feat4 = dwt_features(img_resized)\n",
        "\n",
        "    img_hist = list(feat1) +list(feat2) + list(feat3) + list(feat4) \n",
        "    train.append(img_hist)\n",
        "    train_label.append(1)\n",
        "    i +=1\n",
        "    print(i)"
      ],
      "execution_count": null,
      "outputs": []
    },
    {
      "cell_type": "code",
      "metadata": {
        "id": "c9M658Ev22z-"
      },
      "source": [
        "i = 0\n",
        "for train_image in train_pneumonia_bacterial_path:\n",
        "\n",
        "    img_resized = image_read(train_image)\n",
        "    im = cv_read(train_image)\n",
        "    feat1 = glcm_features(im)\n",
        "    feat2= lbp_features(im)\n",
        "    feat3 = hog_features(im)\n",
        "    feat4 = dwt_features(img_resized)\n",
        "\n",
        "    img_hist = list(feat1) +list(feat2) + list(feat3) + list(feat4) \n",
        "    train.append(img_hist)\n",
        "    train_label.append(2)\n",
        "    i +=1\n",
        "    print(i)"
      ],
      "execution_count": null,
      "outputs": []
    },
    {
      "cell_type": "code",
      "metadata": {
        "id": "pD87N9HQ233z"
      },
      "source": [
        "i = 0\n",
        "for train_image in train_pneumonia_viral_path:\n",
        "\n",
        "    img_resized = image_read(train_image)\n",
        "    im = cv_read(train_image)\n",
        "    feat1 = glcm_features(im)\n",
        "    feat2= lbp_features(im)\n",
        "    feat3 = hog_features(im)\n",
        "    feat4 = dwt_features(img_resized)\n",
        "\n",
        "    img_hist = list(feat1) +list(feat2) + list(feat3) + list(feat4) \n",
        "    train.append(img_hist)\n",
        "    train_label.append(3)\n",
        "    i +=1\n",
        "    print(i)"
      ],
      "execution_count": null,
      "outputs": []
    },
    {
      "cell_type": "markdown",
      "metadata": {
        "id": "Z1Gf6Qu_oR0-"
      },
      "source": [
        "### TEST DATA"
      ]
    },
    {
      "cell_type": "code",
      "metadata": {
        "id": "zJrEAHyGpP3n"
      },
      "source": [
        "img_hist = []\n",
        "test,test_label = [],[]\n",
        "i = 0\n",
        "for train_image in test_covid_path:\n",
        "    img_resized = image_read(train_image)\n",
        "    im = cv_read(train_image)\n",
        "    \n",
        "    feat1 = glcm_features(im)\n",
        "    feat2 = lbp_features(im)\n",
        "    feat3 = hog_features(im)\n",
        "    feat4 = dwt_features(img_resized)\n",
        "\n",
        "    img_hist = list(feat1)+ list(feat2) + list(feat4) + list(feat3) \n",
        "    test.append(img_hist)\n",
        "    test_label.append(0)\n",
        "    i += 1\n",
        "    print(i)\n",
        "for train_image in test_normal_path:\n",
        "    img_resized = image_read(train_image)\n",
        "    im = cv_read(train_image)\n",
        "    feat1 = glcm_features(im)\n",
        "    feat2= lbp_features(im)\n",
        "    feat3 = hog_features(im)\n",
        "    feat4 = dwt_features(img_resized)\n",
        "\n",
        "    img_hist = list(feat1)+ list(feat2) + list(feat3) + list(feat4) \n",
        "    test.append(img_hist)\n",
        "    test_label.append(1)\n",
        "    i += 1\n",
        "    print(i)\n",
        "for train_image in test_pneumonia_bacterial_path:\n",
        "    img_resized = image_read(train_image)\n",
        "    im = cv_read(train_image)\n",
        "    feat1 = glcm_features(im)\n",
        "    feat2= lbp_features(im)\n",
        "    feat3 = hog_features(im)\n",
        "    feat4 = dwt_features(img_resized)\n",
        "\n",
        "    img_hist = list(feat1)+ list(feat2) + list(feat3) + list(feat4) \n",
        "    test.append(img_hist)\n",
        "    test_label.append(2)\n",
        "    i += 1\n",
        "    print(i)\n",
        "\n",
        "\n",
        "for train_image in test_pneumonia_viral_path:\n",
        "    img_resized = image_read(train_image)\n",
        "    im = cv_read(train_image)\n",
        "    feat1 = glcm_features(im)\n",
        "    feat2= lbp_features(im)\n",
        "    feat3 = hog_features(im)\n",
        "    feat4 = dwt_features(img_resized)\n",
        "\n",
        "    img_hist = list(feat1)+ list(feat2) + list(feat3) + list(feat4) \n",
        "    test.append(img_hist)\n",
        "    test_label.append(3)\n",
        "    i += 1\n",
        "    print(i)    "
      ],
      "execution_count": null,
      "outputs": []
    },
    {
      "cell_type": "code",
      "metadata": {
        "colab": {
          "base_uri": "https://localhost:8080/"
        },
        "id": "X_BYxWHYqtCY",
        "outputId": "0d5732fd-904e-4847-a382-c23268c1fda8"
      },
      "source": [
        "test_images = np.array(test)\n",
        "y_test = np.array(test_label)\n",
        "test_images.shape"
      ],
      "execution_count": null,
      "outputs": [
        {
          "output_type": "execute_result",
          "data": {
            "text/plain": [
              "(325, 80244)"
            ]
          },
          "metadata": {
            "tags": []
          },
          "execution_count": 17
        }
      ]
    },
    {
      "cell_type": "code",
      "metadata": {
        "colab": {
          "base_uri": "https://localhost:8080/"
        },
        "id": "nEmUPP35QtPk",
        "outputId": "1c876fb8-fabd-4df0-c2f0-120f421c3a6e"
      },
      "source": [
        "images = np.array(train)\n",
        "y = np.array(train_label)\n",
        "images.shape"
      ],
      "execution_count": null,
      "outputs": [
        {
          "output_type": "execute_result",
          "data": {
            "text/plain": [
              "(1713, 80244)"
            ]
          },
          "metadata": {
            "tags": []
          },
          "execution_count": 19
        }
      ]
    },
    {
      "cell_type": "markdown",
      "metadata": {
        "id": "weDscTNaZUqU"
      },
      "source": [
        "# Delete correlated features"
      ]
    },
    {
      "cell_type": "code",
      "metadata": {
        "id": "XV7678EJRmWP"
      },
      "source": [
        "# Getting extracted features\n",
        "import pandas as pd\n",
        "df = pd.DataFrame(images[:,:244])\n",
        "df_test = pd.DataFrame(test_images[:,:244])\n",
        "\n",
        "# Create correlation matrix\n",
        "corr_matrix = df.corr().abs()\n",
        "\n",
        "# Select upper triangle of correlation matrix\n",
        "upper = corr_matrix.where(np.triu(np.ones(corr_matrix.shape), k=1).astype(np.bool))\n",
        "\n",
        "# Find features with correlation greater than 0.97\n",
        "to_drop = [column for column in upper.columns if any(upper[column] > 0.97)]\n",
        "\n",
        "# Drop correlated features \n",
        "df.drop(to_drop, axis=1, inplace=True)\n",
        "df_test.drop(to_drop, axis=1, inplace=True)"
      ],
      "execution_count": null,
      "outputs": []
    },
    {
      "cell_type": "code",
      "metadata": {
        "id": "-z746HbSWIla",
        "colab": {
          "base_uri": "https://localhost:8080/"
        },
        "outputId": "377a41a9-5da6-4dfa-c61c-e83f3cf07a49"
      },
      "source": [
        "df.shape"
      ],
      "execution_count": null,
      "outputs": [
        {
          "output_type": "execute_result",
          "data": {
            "text/plain": [
              "(1713, 233)"
            ]
          },
          "metadata": {
            "tags": []
          },
          "execution_count": 21
        }
      ]
    },
    {
      "cell_type": "code",
      "metadata": {
        "id": "mLSFVlSmtQti",
        "colab": {
          "base_uri": "https://localhost:8080/"
        },
        "outputId": "f3e7ad55-e4b0-4507-fe16-ad219330de01"
      },
      "source": [
        "df_test.shape"
      ],
      "execution_count": null,
      "outputs": [
        {
          "output_type": "execute_result",
          "data": {
            "text/plain": [
              "(325, 233)"
            ]
          },
          "metadata": {
            "tags": []
          },
          "execution_count": 22
        }
      ]
    },
    {
      "cell_type": "code",
      "metadata": {
        "id": "cS5a5d5MSAVZ",
        "colab": {
          "base_uri": "https://localhost:8080/"
        },
        "outputId": "c1e8441e-3cd5-43d9-d8ff-507d8fed822a"
      },
      "source": [
        "## Create a new set of only useful features\n",
        "df2 = pd.concat([df,pd.DataFrame(images[:,244:])],axis=1)\n",
        "df2.shape"
      ],
      "execution_count": null,
      "outputs": [
        {
          "output_type": "execute_result",
          "data": {
            "text/plain": [
              "(1713, 80233)"
            ]
          },
          "metadata": {
            "tags": []
          },
          "execution_count": 23
        }
      ]
    },
    {
      "cell_type": "code",
      "metadata": {
        "id": "W0UWTc_nr3kL",
        "colab": {
          "base_uri": "https://localhost:8080/"
        },
        "outputId": "37c35c1d-1c8b-43a9-b39d-6155cb30c65f"
      },
      "source": [
        "df_test2 = pd.concat([df_test ,pd.DataFrame(test_images[:,244:])],axis=1)\n",
        "\n",
        "df_test2.shape"
      ],
      "execution_count": null,
      "outputs": [
        {
          "output_type": "execute_result",
          "data": {
            "text/plain": [
              "(325, 80233)"
            ]
          },
          "metadata": {
            "tags": []
          },
          "execution_count": 24
        }
      ]
    },
    {
      "cell_type": "code",
      "metadata": {
        "id": "TSWX_KaiVnfO"
      },
      "source": [
        "X = df2.iloc[:,:].values\n",
        "X_test = df_test2.iloc[:,:].values"
      ],
      "execution_count": null,
      "outputs": []
    },
    {
      "cell_type": "code",
      "metadata": {
        "id": "hzLkCZ6Nw6O0",
        "colab": {
          "base_uri": "https://localhost:8080/"
        },
        "outputId": "8ae8b05f-df5e-47c0-cb6a-c1218384d948"
      },
      "source": [
        "X.shape"
      ],
      "execution_count": null,
      "outputs": [
        {
          "output_type": "execute_result",
          "data": {
            "text/plain": [
              "(1713, 80233)"
            ]
          },
          "metadata": {
            "tags": []
          },
          "execution_count": 26
        }
      ]
    },
    {
      "cell_type": "code",
      "metadata": {
        "id": "RfxK3Q8BVs52",
        "colab": {
          "base_uri": "https://localhost:8080/"
        },
        "outputId": "67e19db3-6372-476b-886f-2c441e6c3785"
      },
      "source": [
        "X_test.shape"
      ],
      "execution_count": null,
      "outputs": [
        {
          "output_type": "execute_result",
          "data": {
            "text/plain": [
              "(325, 80233)"
            ]
          },
          "metadata": {
            "tags": []
          },
          "execution_count": 27
        }
      ]
    },
    {
      "cell_type": "markdown",
      "metadata": {
        "id": "8vF8XlZX6ktP"
      },
      "source": [
        "# Modeling"
      ]
    },
    {
      "cell_type": "markdown",
      "metadata": {
        "id": "CyTVAhu3ljVJ"
      },
      "source": [
        "## Model Training and Validating"
      ]
    },
    {
      "cell_type": "code",
      "metadata": {
        "id": "jYiEyzduY7m5"
      },
      "source": [
        "from sklearn.model_selection import train_test_split\n",
        "from sklearn import svm,metrics\n",
        "from sklearn.model_selection import cross_validate"
      ],
      "execution_count": null,
      "outputs": []
    },
    {
      "cell_type": "code",
      "metadata": {
        "id": "yisah384r_F1"
      },
      "source": [
        "metrics_needed = ['accuracy','recall_macro','precision_macro','f1_macro']"
      ],
      "execution_count": null,
      "outputs": []
    },
    {
      "cell_type": "code",
      "metadata": {
        "id": "kdhiQ4AJe1tn"
      },
      "source": [
        "svc = svm.SVC(kernel='rbf', C=18,gamma=0.0001, random_state=22)\n",
        "scores = cross_validate(svc, X, y,cv=5,return_train_score=True,scoring=metrics_needed)\n",
        "\n",
        "scores"
      ],
      "execution_count": null,
      "outputs": []
    },
    {
      "cell_type": "code",
      "metadata": {
        "colab": {
          "base_uri": "https://localhost:8080/"
        },
        "id": "TRtxoKJZ8Bi1",
        "outputId": "dba818b9-7fc8-467d-f860-777049967c16"
      },
      "source": [
        "scores['test_score'].mean()"
      ],
      "execution_count": null,
      "outputs": [
        {
          "output_type": "execute_result",
          "data": {
            "text/plain": [
              "0.9586312038599901"
            ]
          },
          "metadata": {
            "tags": []
          },
          "execution_count": 2
        }
      ]
    },
    {
      "cell_type": "code",
      "metadata": {
        "colab": {
          "base_uri": "https://localhost:8080/"
        },
        "id": "XImC8VHWgd3R",
        "outputId": "cf405580-35ad-46d4-8378-b7ad37222bc0"
      },
      "source": [
        "scores['fit_time'].mean()"
      ],
      "execution_count": null,
      "outputs": [
        {
          "output_type": "execute_result",
          "data": {
            "text/plain": [
              "115.65074977874755"
            ]
          },
          "metadata": {
            "tags": []
          },
          "execution_count": 32
        }
      ]
    },
    {
      "cell_type": "code",
      "metadata": {
        "colab": {
          "base_uri": "https://localhost:8080/"
        },
        "id": "J8haFVZ49Izv",
        "outputId": "80712fa0-e3b9-4c46-d5bc-f284f11b9e85"
      },
      "source": [
        "115.65074977874755/365"
      ],
      "execution_count": null,
      "outputs": [
        {
          "output_type": "execute_result",
          "data": {
            "text/plain": [
              "0.3168513692568426"
            ]
          },
          "metadata": {
            "tags": []
          },
          "execution_count": 3
        }
      ]
    },
    {
      "cell_type": "code",
      "metadata": {
        "colab": {
          "base_uri": "https://localhost:8080/"
        },
        "id": "9vjEXoWIg6nJ",
        "outputId": "956eefca-700d-47fe-d0c1-df49cb35e2d5"
      },
      "source": [
        "scores['train_score'].mean()"
      ],
      "execution_count": null,
      "outputs": [
        {
          "output_type": "execute_result",
          "data": {
            "text/plain": [
              "0.9859891282935893"
            ]
          },
          "metadata": {
            "tags": []
          },
          "execution_count": 42
        }
      ]
    },
    {
      "cell_type": "markdown",
      "metadata": {
        "id": "cADNRsnzxv4g"
      },
      "source": [
        "## Model testing:"
      ]
    },
    {
      "cell_type": "code",
      "metadata": {
        "id": "bztUWfVTzZUF"
      },
      "source": [],
      "execution_count": null,
      "outputs": []
    },
    {
      "cell_type": "code",
      "metadata": {
        "id": "g7fXNP2Jxycq"
      },
      "source": [
        "from sklearn.metrics import multilabel_confusion_matrix\n",
        "from sklearn.metrics import plot_confusion_matrix\n",
        "import numpy as np\n",
        "classes_names = ['covid-19','normal','pneumonia bacterial','pneumonia viral']\n",
        "\n",
        "classes = {0:{'sensitivity': [], 'specifity': [], 'precision': [], 'accuracy': [], 'recall' : []},\n",
        "           1:{'sensitivity': [], 'specifity': [], 'precision': [], 'accuracy': [], 'recall' : []},\n",
        "           2:{'sensitivity': [], 'specifity': [], 'precision': [], 'accuracy': [], 'recall' : []},\n",
        "           3:{'sensitivity': [], 'specifity': [], 'precision': [], 'accuracy': [], 'recall' : []}}"
      ],
      "execution_count": null,
      "outputs": []
    },
    {
      "cell_type": "code",
      "metadata": {
        "id": "5zRnlRJeeuOr"
      },
      "source": [
        "def get_param(multilabel_confusion_matrix):\n",
        "\n",
        "  return multilabel_confusion_matrix[0,0],multilabel_confusion_matrix[0,1],multilabel_confusion_matrix[1,0],multilabel_confusion_matrix[1,1]"
      ],
      "execution_count": null,
      "outputs": []
    },
    {
      "cell_type": "code",
      "metadata": {
        "id": "o-T_jndaeeyA"
      },
      "source": [
        "X_train, X_valid, y_train, y_valid = train_test_split(X, y, test_size=0.25,random_state = 51)\n",
        "\n",
        "clf = svm.SVC(C=18,gamma=0.0001,kernel='rbf')\n",
        "\n",
        "clf.fit(X_train, y_train)\n",
        "\n",
        "pred = clf.predict(X_test)"
      ],
      "execution_count": null,
      "outputs": []
    },
    {
      "cell_type": "code",
      "metadata": {
        "colab": {
          "base_uri": "https://localhost:8080/"
        },
        "id": "ALeJrrRYxqUJ",
        "outputId": "e53f24ab-549e-4113-9eae-8ac3b64b388e"
      },
      "source": [
        "cmf_matrix = multilabel_confusion_matrix(y_test, pred).ravel()\n",
        "cmf_matrix = np.array(cmf_matrix)\n",
        "\n",
        "#print('confusion matrix for the four classes are',cmf_matrix)\n",
        "for i in range(4):\n",
        "    print('\\nThe confusion matrix and the calculations for the {} class:'.format(classes_names[i]))\n",
        "    tp,fp,fn,tn = cmf_matrix[i*4:(i*4)+4]\n",
        "    print(cmf_matrix[i*4:(i*4)+4])\n",
        "    recall = tp /(tp+fn)\n",
        "    precision = tp/(tp+fp)\n",
        "    f1 = 2*precision*recall / (precision+recall)\n",
        "    accuracy = (tp+tn) / (tp+tn+fp+fn)\n",
        "    specifity = tn / (tn+fp)\n",
        "    sensitivity = tp / (tp+fn)\n",
        "    print('F1-Score:',f1)\n",
        "    print('Recall:',recall)\n",
        "    print('Precision :',precision)\n",
        "    classes[i]['sensitivity'].append(sensitivity)\n",
        "    classes[i]['specifity'].append(specifity)\n",
        "    classes[i]['precision'].append(precision)\n",
        "    classes[i]['accuracy'].append(accuracy)\n",
        "    classes[i]['recall'].append(recall)"
      ],
      "execution_count": null,
      "outputs": [
        {
          "output_type": "stream",
          "text": [
            "\n",
            "The confusion matrix and the calculations for the covid-19 class:\n",
            "[238   2   0  85]\n",
            "F1-Score: 0.99581589958159\n",
            "Recall: 1.0\n",
            "Precision : 0.9916666666666667\n",
            "\n",
            "The confusion matrix and the calculations for the normal class:\n",
            "[239   6   6  74]\n",
            "F1-Score: 0.9755102040816327\n",
            "Recall: 0.9755102040816327\n",
            "Precision : 0.9755102040816327\n",
            "\n",
            "The confusion matrix and the calculations for the pneumonia bacterial class:\n",
            "[219  26   7  73]\n",
            "F1-Score: 0.9299363057324841\n",
            "Recall: 0.9690265486725663\n",
            "Precision : 0.8938775510204081\n",
            "\n",
            "The confusion matrix and the calculations for the pneumonia viral class:\n",
            "[234  11  32  48]\n",
            "F1-Score: 0.9158512720156556\n",
            "Recall: 0.8796992481203008\n",
            "Precision : 0.9551020408163265\n"
          ],
          "name": "stdout"
        }
      ]
    },
    {
      "cell_type": "code",
      "metadata": {
        "colab": {
          "base_uri": "https://localhost:8080/",
          "height": 296
        },
        "id": "kFoQgsw8zXB7",
        "outputId": "45d88759-775f-45e6-ee5a-32b5cfe7e513"
      },
      "source": [
        "plot_confusion_matrix(clf, X_test, y_test)  "
      ],
      "execution_count": null,
      "outputs": [
        {
          "output_type": "execute_result",
          "data": {
            "text/plain": [
              "<sklearn.metrics._plot.confusion_matrix.ConfusionMatrixDisplay at 0x7f67d775bc90>"
            ]
          },
          "metadata": {
            "tags": []
          },
          "execution_count": 47
        },
        {
          "output_type": "display_data",
          "data": {
            "image/png": "[encoded data removed]",
            "text/plain": [
              "<Figure size 432x288 with 2 Axes>"
            ]
          },
          "metadata": {
            "tags": []
          }
        }
      ]
    },
    {
      "cell_type": "code",
      "metadata": {
        "id": "dNCx4DOBz9xL"
      },
      "source": [
        "X_train, X_valid, y_train, y_valid = train_test_split(X, y, test_size=0.25,random_state = 43)\n",
        "\n",
        "clf = svm.SVC(C=18,gamma=0.0001,kernel='rbf')\n",
        "\n",
        "clf.fit(X_train, y_train)\n",
        "\n",
        "pred = clf.predict(X_test)"
      ],
      "execution_count": null,
      "outputs": []
    },
    {
      "cell_type": "code",
      "metadata": {
        "colab": {
          "base_uri": "https://localhost:8080/",
          "height": 704
        },
        "id": "Rcws-BsLpnpc",
        "outputId": "8f62b805-9937-4cf6-bf7f-78fbc94cb861"
      },
      "source": [
        "cmf_matrix = multilabel_confusion_matrix(y_test, pred).ravel()\n",
        "cmf_matrix = np.array(cmf_matrix)\n",
        "\n",
        "#print('confusion matrix for the four classes are',cmf_matrix)\n",
        "for i in range(4):\n",
        "    print('\\nThe confusion matrix and the calculations for the {} class:'.format(classes_names[i]))\n",
        "    tp,fp,fn,tn = cmf_matrix[i*4:(i*4)+4]\n",
        "    print(cmf_matrix[i*4:(i*4)+4])\n",
        "    recall = tp /(tp+fn)\n",
        "    precision = tp/(tp+fp)\n",
        "    f1 = 2*precision*recall / (precision+recall)\n",
        "    accuracy = (tp+tn) / (tp+tn+fp+fn)\n",
        "    specifity = tn / (tn+fp)\n",
        "    sensitivity = tp / (tp+fn)\n",
        "    print('F1-Score:',f1)\n",
        "    print('Recall:',recall)\n",
        "    print('Precision :',precision)\n",
        "    classes[i]['sensitivity'].append(sensitivity)\n",
        "    classes[i]['specifity'].append(specifity)\n",
        "    classes[i]['precision'].append(precision)\n",
        "    classes[i]['accuracy'].append(accuracy)\n",
        "    classes[i]['recall'].append(recall)\n",
        "\n",
        "plot_confusion_matrix(clf, X_test, y_test)  "
      ],
      "execution_count": null,
      "outputs": [
        {
          "output_type": "stream",
          "text": [
            "\n",
            "The confusion matrix and the calculations for the covid-19 class:\n",
            "[239   1   0  85]\n",
            "F1-Score: 0.9979123173277662\n",
            "Recall: 1.0\n",
            "Precision : 0.9958333333333333\n",
            "\n",
            "The confusion matrix and the calculations for the normal class:\n",
            "[239   6   3  77]\n",
            "F1-Score: 0.9815195071868583\n",
            "Recall: 0.987603305785124\n",
            "Precision : 0.9755102040816327\n",
            "\n",
            "The confusion matrix and the calculations for the pneumonia bacterial class:\n",
            "[220  25   4  76]\n",
            "F1-Score: 0.9381663113006395\n",
            "Recall: 0.9821428571428571\n",
            "Precision : 0.8979591836734694\n",
            "\n",
            "The confusion matrix and the calculations for the pneumonia viral class:\n",
            "[239   6  31  49]\n",
            "F1-Score: 0.9281553398058253\n",
            "Recall: 0.8851851851851852\n",
            "Precision : 0.9755102040816327\n"
          ],
          "name": "stdout"
        },
        {
          "output_type": "execute_result",
          "data": {
            "text/plain": [
              "<sklearn.metrics._plot.confusion_matrix.ConfusionMatrixDisplay at 0x7f994732cb90>"
            ]
          },
          "metadata": {
            "tags": []
          },
          "execution_count": 65
        },
        {
          "output_type": "display_data",
          "data": {
            "image/png": "[encoded data removed]",
            "text/plain": [
              "<Figure size 432x288 with 2 Axes>"
            ]
          },
          "metadata": {
            "tags": [],
            "needs_background": "light"
          }
        }
      ]
    },
    {
      "cell_type": "code",
      "metadata": {
        "colab": {
          "base_uri": "https://localhost:8080/",
          "height": 704
        },
        "id": "aDrJ53e4aYjN",
        "outputId": "af5efbdf-8aec-473c-b12a-b86c513588cc"
      },
      "source": [
        "X_train, X_valid, y_train, y_valid = train_test_split(X, y, test_size=0.25,random_state = 32)\n",
        "\n",
        "clf = svm.SVC(C=18,gamma=0.0001,kernel='rbf')\n",
        "\n",
        "clf.fit(X_train, y_train)\n",
        "\n",
        "pred = clf.predict(X_test)\n",
        "\n",
        "cmf_matrix = multilabel_confusion_matrix(y_test, pred).ravel()\n",
        "cmf_matrix = np.array(cmf_matrix)\n",
        "\n",
        "#print('confusion matrix for the four classes are',cmf_matrix)\n",
        "for i in range(4):\n",
        "    print('\\nThe confusion matrix and the calculations for the {} class:'.format(classes_names[i]))\n",
        "    tp,fp,fn,tn = cmf_matrix[i*4:(i*4)+4]\n",
        "    print(cmf_matrix[i*4:(i*4)+4])\n",
        "    recall = tp /(tp+fn)\n",
        "    precision = tp/(tp+fp)\n",
        "    f1 = 2*precision*recall / (precision+recall)\n",
        "    accuracy = (tp+tn) / (tp+tn+fp+fn)\n",
        "    specifity = tn / (tn+fp)\n",
        "    sensitivity = tp / (tp+fn)\n",
        "    print('F1-Score:',f1)\n",
        "    print('Recall:',recall)\n",
        "    print('Precision :',precision)\n",
        "    classes[i]['sensitivity'].append(sensitivity)\n",
        "    classes[i]['specifity'].append(specifity)\n",
        "    classes[i]['precision'].append(precision)\n",
        "    classes[i]['accuracy'].append(accuracy)\n",
        "    classes[i]['recall'].append(recall)\n",
        "\n",
        "plot_confusion_matrix(clf, X_test, y_test)  "
      ],
      "execution_count": null,
      "outputs": [
        {
          "output_type": "stream",
          "text": [
            "\n",
            "The confusion matrix and the calculations for the covid-19 class:\n",
            "[239   1   0  85]\n",
            "F1-Score: 0.9979123173277662\n",
            "Recall: 1.0\n",
            "Precision : 0.9958333333333333\n",
            "\n",
            "The confusion matrix and the calculations for the normal class:\n",
            "[240   5   3  77]\n",
            "F1-Score: 0.9836065573770492\n",
            "Recall: 0.9876543209876543\n",
            "Precision : 0.9795918367346939\n",
            "\n",
            "The confusion matrix and the calculations for the pneumonia bacterial class:\n",
            "[220  25   7  73]\n",
            "F1-Score: 0.9322033898305084\n",
            "Recall: 0.9691629955947136\n",
            "Precision : 0.8979591836734694\n",
            "\n",
            "The confusion matrix and the calculations for the pneumonia viral class:\n",
            "[236   9  30  50]\n",
            "F1-Score: 0.9236790606653621\n",
            "Recall: 0.8872180451127819\n",
            "Precision : 0.963265306122449\n"
          ],
          "name": "stdout"
        },
        {
          "output_type": "execute_result",
          "data": {
            "text/plain": [
              "<sklearn.metrics._plot.confusion_matrix.ConfusionMatrixDisplay at 0x7f994746b7d0>"
            ]
          },
          "metadata": {
            "tags": []
          },
          "execution_count": 41
        },
        {
          "output_type": "display_data",
          "data": {
            "image/png": "[encoded data removed]",
            "text/plain": [
              "<Figure size 432x288 with 2 Axes>"
            ]
          },
          "metadata": {
            "tags": [],
            "needs_background": "light"
          }
        }
      ]
    },
    {
      "cell_type": "code",
      "metadata": {
        "colab": {
          "base_uri": "https://localhost:8080/",
          "height": 704
        },
        "id": "ns9T6cj_dCZM",
        "outputId": "37c920ad-aa85-42d0-dbfe-1eb38a000e32"
      },
      "source": [
        "X_train, X_valid, y_train, y_valid = train_test_split(X, y, test_size=0.25,random_state = 27)\n",
        "\n",
        "clf = svm.SVC(C=18,gamma=0.0001,kernel='rbf')\n",
        "\n",
        "clf.fit(X_train, y_train)\n",
        "\n",
        "pred = clf.predict(X_test)\n",
        "\n",
        "cmf_matrix = multilabel_confusion_matrix(y_test, pred).ravel()\n",
        "cmf_matrix = np.array(cmf_matrix)\n",
        "\n",
        "\n",
        "for i in range(4):\n",
        "    print('\\nThe confusion matrix and the calculations for the {} class:'.format(classes_names[i]))\n",
        "    tp,fp,fn,tn = cmf_matrix[i*4:(i*4)+4]\n",
        "    print(cmf_matrix[i*4:(i*4)+4])\n",
        "    recall = tp /(tp+fn)\n",
        "    precision = tp/(tp+fp)\n",
        "    f1 = 2*precision*recall / (precision+recall)\n",
        "    accuracy = (tp+tn) / (tp+tn+fp+fn)\n",
        "    specifity = tn / (tn+fp)\n",
        "    sensitivity = tp / (tp+fn)\n",
        "    print('F1-Score:',f1)\n",
        "    print('Recall:',recall)\n",
        "    print('Precision :',precision)\n",
        "    classes[i]['sensitivity'].append(sensitivity)\n",
        "    classes[i]['specifity'].append(specifity)\n",
        "    classes[i]['precision'].append(precision)\n",
        "    classes[i]['accuracy'].append(accuracy)\n",
        "    classes[i]['recall'].append(recall)\n",
        "\n",
        "plot_confusion_matrix(clf, X_test, y_test)"
      ],
      "execution_count": null,
      "outputs": [
        {
          "output_type": "stream",
          "text": [
            "\n",
            "The confusion matrix and the calculations for the covid-19 class:\n",
            "[239   1   0  85]\n",
            "F1-Score: 0.9979123173277662\n",
            "Recall: 1.0\n",
            "Precision : 0.9958333333333333\n",
            "\n",
            "The confusion matrix and the calculations for the normal class:\n",
            "[239   6   2  78]\n",
            "F1-Score: 0.9835390946502057\n",
            "Recall: 0.991701244813278\n",
            "Precision : 0.9755102040816327\n",
            "\n",
            "The confusion matrix and the calculations for the pneumonia bacterial class:\n",
            "[218  27   5  75]\n",
            "F1-Score: 0.9316239316239315\n",
            "Recall: 0.9775784753363229\n",
            "Precision : 0.889795918367347\n",
            "\n",
            "The confusion matrix and the calculations for the pneumonia viral class:\n",
            "[239   6  33  47]\n",
            "F1-Score: 0.9245647969052225\n",
            "Recall: 0.8786764705882353\n",
            "Precision : 0.9755102040816327\n"
          ],
          "name": "stdout"
        },
        {
          "output_type": "execute_result",
          "data": {
            "text/plain": [
              "<sklearn.metrics._plot.confusion_matrix.ConfusionMatrixDisplay at 0x7f9947af1f50>"
            ]
          },
          "metadata": {
            "tags": []
          },
          "execution_count": 40
        },
        {
          "output_type": "display_data",
          "data": {
            "image/png": "[encoded data removed]",
            "text/plain": [
              "<Figure size 432x288 with 2 Axes>"
            ]
          },
          "metadata": {
            "tags": [],
            "needs_background": "light"
          }
        }
      ]
    },
    {
      "cell_type": "code",
      "metadata": {
        "id": "mXm4HfXpeBC_"
      },
      "source": [
        "X_train, X_valid, y_train, y_valid = train_test_split(X, y, test_size=0.25,random_state = 42)\n",
        "\n",
        "clf = svm.SVC(C=18,gamma=0.0001,kernel='rbf')\n",
        "\n",
        "clf.fit(X_train, y_train)\n",
        "\n",
        "pred = clf.predict(X_test)\n",
        "\n",
        "cmf_matrix = multilabel_confusion_matrix(y_test, pred).ravel()\n",
        "cmf_matrix = np.array(cmf_matrix)\n",
        "\n",
        "#print('confusion matrix for the four classes are',cmf_matrix)"
      ],
      "execution_count": null,
      "outputs": []
    },
    {
      "cell_type": "code",
      "metadata": {
        "colab": {
          "base_uri": "https://localhost:8080/",
          "height": 704
        },
        "id": "EfZVRdq_hqAI",
        "outputId": "176a4675-7856-478c-9d99-706bdcf7c5ca"
      },
      "source": [
        "for i in range(4):\n",
        "    print('\\nThe confusion matrix and the calculations for the {} class:'.format(classes_names[i]))\n",
        "    tp,fp,fn,tn = cmf_matrix[i*4:(i*4)+4]\n",
        "    print(cmf_matrix[i*4:(i*4)+4])\n",
        "    recall = tp /(tp+fn)\n",
        "    precision = tp/(tp+fp)\n",
        "    f1 = 2*precision*recall / (precision+recall)\n",
        "    accuracy = (tp+tn) / (tp+tn+fp+fn)\n",
        "    specifity = tn / (tn+fp)\n",
        "    sensitivity = tp / (tp+fn)\n",
        "    print('F1-Score:',f1)\n",
        "    print('Recall:',recall)\n",
        "    print('Precision :',precision)\n",
        "    classes[i]['sensitivity'].append(sensitivity)\n",
        "    classes[i]['specifity'].append(specifity)\n",
        "    classes[i]['precision'].append(precision)\n",
        "    classes[i]['accuracy'].append(accuracy)\n",
        "    classes[i]['recall'].append(recall)\n",
        "\n",
        "plot_confusion_matrix(clf, X_test, y_test)  "
      ],
      "execution_count": null,
      "outputs": [
        {
          "output_type": "stream",
          "text": [
            "\n",
            "The confusion matrix and the calculations for the covid-19 class:\n",
            "[239   1   0  85]\n",
            "F1-Score: 0.9979123173277662\n",
            "Recall: 1.0\n",
            "Precision : 0.9958333333333333\n",
            "\n",
            "The confusion matrix and the calculations for the normal class:\n",
            "[237   8   3  77]\n",
            "F1-Score: 0.9773195876288661\n",
            "Recall: 0.9875\n",
            "Precision : 0.9673469387755103\n",
            "\n",
            "The confusion matrix and the calculations for the pneumonia bacterial class:\n",
            "[222  23   5  75]\n",
            "F1-Score: 0.940677966101695\n",
            "Recall: 0.9779735682819384\n",
            "Precision : 0.9061224489795918\n",
            "\n",
            "The confusion matrix and the calculations for the pneumonia viral class:\n",
            "[239   6  30  50]\n",
            "F1-Score: 0.9299610894941635\n",
            "Recall: 0.8884758364312267\n",
            "Precision : 0.9755102040816327\n"
          ],
          "name": "stdout"
        },
        {
          "output_type": "execute_result",
          "data": {
            "text/plain": [
              "<sklearn.metrics._plot.confusion_matrix.ConfusionMatrixDisplay at 0x7f9947b3d510>"
            ]
          },
          "metadata": {
            "tags": []
          },
          "execution_count": 38
        },
        {
          "output_type": "display_data",
          "data": {
            "image/png": "[encoded data removed]",
            "text/plain": [
              "<Figure size 432x288 with 2 Axes>"
            ]
          },
          "metadata": {
            "tags": [],
            "needs_background": "light"
          }
        }
      ]
    },
    {
      "cell_type": "code",
      "metadata": {
        "id": "gaqMybsteYG-",
        "colab": {
          "base_uri": "https://localhost:8080/",
          "height": 704
        },
        "outputId": "517e0f03-d35b-410e-fcfb-8e657c884469"
      },
      "source": [
        "X_train, X_valid, y_train, y_valid = train_test_split(X, y, test_size=0.25,random_state = 12)\n",
        "\n",
        "clf = svm.SVC(C=18,gamma=0.0001,kernel='rbf')\n",
        "\n",
        "clf.fit(X_train, y_train)\n",
        "\n",
        "pred = clf.predict(X_test)\n",
        "\n",
        "cmf_matrix = multilabel_confusion_matrix(y_test, pred).ravel()\n",
        "cmf_matrix = np.array(cmf_matrix)\n",
        "\n",
        "#print('confusion matrix for the four classes are',cmf_matrix)\n",
        "for i in range(4):\n",
        "    print('\\nThe confusion matrix and the calculations for the {} class:'.format(classes_names[i]))\n",
        "    tp,fp,fn,tn = cmf_matrix[i*4:(i*4)+4]\n",
        "    print(cmf_matrix[i*4:(i*4)+4])\n",
        "    recall = tp /(tp+fn)\n",
        "    precision = tp/(tp+fp)\n",
        "    f1 = 2*precision*recall / (precision+recall)\n",
        "    accuracy = (tp+tn) / (tp+tn+fp+fn)\n",
        "    specifity = tn / (tn+fp)\n",
        "    sensitivity = tp / (tp+fn)\n",
        "    print('F1-Score:',f1)\n",
        "    print('Recall:',recall)\n",
        "    print('Precision :',precision)\n",
        "    classes[i]['sensitivity'].append(sensitivity)\n",
        "    classes[i]['specifity'].append(specifity)\n",
        "    classes[i]['precision'].append(precision)\n",
        "    classes[i]['accuracy'].append(accuracy)\n",
        "    classes[i]['recall'].append(recall)\n",
        "\n",
        "plot_confusion_matrix(clf, X_test, y_test)  "
      ],
      "execution_count": null,
      "outputs": [
        {
          "output_type": "stream",
          "text": [
            "\n",
            "The confusion matrix and the calculations for the covid-19 class:\n",
            "[239   1   0  85]\n",
            "F1-Score: 0.9979123173277662\n",
            "Recall: 1.0\n",
            "Precision : 0.9958333333333333\n",
            "\n",
            "The confusion matrix and the calculations for the normal class:\n",
            "[240   5   3  77]\n",
            "F1-Score: 0.9836065573770492\n",
            "Recall: 0.9876543209876543\n",
            "Precision : 0.9795918367346939\n",
            "\n",
            "The confusion matrix and the calculations for the pneumonia bacterial class:\n",
            "[215  30   4  76]\n",
            "F1-Score: 0.9267241379310344\n",
            "Recall: 0.9817351598173516\n",
            "Precision : 0.8775510204081632\n",
            "\n",
            "The confusion matrix and the calculations for the pneumonia viral class:\n",
            "[240   5  34  46]\n",
            "F1-Score: 0.9248554913294798\n",
            "Recall: 0.8759124087591241\n",
            "Precision : 0.9795918367346939\n"
          ],
          "name": "stdout"
        },
        {
          "output_type": "execute_result",
          "data": {
            "text/plain": [
              "<sklearn.metrics._plot.confusion_matrix.ConfusionMatrixDisplay at 0x7f99479e2950>"
            ]
          },
          "metadata": {
            "tags": []
          },
          "execution_count": 39
        },
        {
          "output_type": "display_data",
          "data": {
            "image/png": "[encoded data removed]",
            "text/plain": [
              "<Figure size 432x288 with 2 Axes>"
            ]
          },
          "metadata": {
            "tags": [],
            "needs_background": "light"
          }
        }
      ]
    },
    {
      "cell_type": "markdown",
      "metadata": {
        "id": "gjF58Uds-x_R"
      },
      "source": [
        "## Not useful"
      ]
    },
    {
      "cell_type": "code",
      "metadata": {
        "id": "4ixwdQcztLKK",
        "colab": {
          "base_uri": "https://localhost:8080/"
        },
        "outputId": "2b9345f9-2a17-4e81-eb9c-eca972ec8649"
      },
      "source": [
        "    i =0  \n",
        "    tp,fp,fn,tn = [239 , 1 ,  0 , 85]\n",
        "    recall = tp /(tp+fn)\n",
        "    precision = tp/(tp+fp)\n",
        "    f1 = 2*precision*recall / (precision+recall)\n",
        "    accuracy = (tp+tn) / (tp+tn+fp+fn)\n",
        "    specifity = tn / (tn+fp)\n",
        "    sensitivity = tp / (tp+fn)\n",
        "    print('F1-Score:',f1)\n",
        "    print('Recall:',recall)\n",
        "    print('Precision :',precision)\n",
        "    classes[i]['sensitivity'].append(sensitivity)\n",
        "    classes[i]['specifity'].append(specifity)\n",
        "    classes[i]['precision'].append(precision)\n",
        "    classes[i]['accuracy'].append(accuracy)\n",
        "    classes[i]['recall'].append(recall)\n",
        "    i =1\n",
        "    tp,fp,fn,tn = [239 ,  6 ,  2 , 78]\n",
        "    recall = tp /(tp+fn)\n",
        "    precision = tp/(tp+fp)\n",
        "    f1 = 2*precision*recall / (precision+recall)\n",
        "    accuracy = (tp+tn) / (tp+tn+fp+fn)\n",
        "    specifity = tn / (tn+fp)\n",
        "    sensitivity = tp / (tp+fn)\n",
        "    print('F1-Score:',f1)\n",
        "    print('Recall:',recall)\n",
        "    print('Precision :',precision)\n",
        "    classes[i]['sensitivity'].append(sensitivity)\n",
        "    classes[i]['specifity'].append(specifity)\n",
        "    classes[i]['precision'].append(precision)\n",
        "    classes[i]['accuracy'].append(accuracy)\n",
        "    classes[i]['recall'].append(recall)\n",
        "    i =2\n",
        "    tp,fp,fn,tn = [218 , 27,   7  ,75]\n",
        "    recall = tp /(tp+fn)\n",
        "    precision = tp/(tp+fp)\n",
        "    f1 = 2*precision*recall / (precision+recall)\n",
        "    accuracy = (tp+tn) / (tp+tn+fp+fn)\n",
        "    specifity = tn / (tn+fp)\n",
        "    sensitivity = tp / (tp+fn)\n",
        "    print('F1-Score:',f1)\n",
        "    print('Recall:',recall)\n",
        "    print('Precision :',precision)\n",
        "    classes[i]['sensitivity'].append(sensitivity)\n",
        "    classes[i]['specifity'].append(specifity)\n",
        "    classes[i]['precision'].append(precision)\n",
        "    classes[i]['accuracy'].append(accuracy)\n",
        "    classes[i]['recall'].append(recall)\n",
        "\n",
        "    i=3\n",
        "    tp,fp,fn,tn = [239  ,6 , 33, 47]\n",
        "    recall = tp /(tp+fn)\n",
        "    precision = tp/(tp+fp)\n",
        "    f1 = 2*precision*recall / (precision+recall)\n",
        "    accuracy = (tp+tn) / (tp+tn+fp+fn)\n",
        "    specifity = tn / (tn+fp)\n",
        "    sensitivity = tp / (tp+fn)\n",
        "    print('F1-Score:',f1)\n",
        "    print('Recall:',recall)\n",
        "    print('Precision :',precision)\n",
        "    classes[i]['sensitivity'].append(sensitivity)\n",
        "    classes[i]['specifity'].append(specifity)\n",
        "    classes[i]['precision'].append(precision)\n",
        "    classes[i]['accuracy'].append(accuracy)\n",
        "    classes[i]['recall'].append(recall)"
      ],
      "execution_count": null,
      "outputs": [
        {
          "output_type": "stream",
          "text": [
            "F1-Score: 0.9979123173277662\n",
            "Recall: 1.0\n",
            "Precision : 0.9958333333333333\n",
            "F1-Score: 0.9835390946502057\n",
            "Recall: 0.991701244813278\n",
            "Precision : 0.9755102040816327\n",
            "F1-Score: 0.9276595744680851\n",
            "Recall: 0.9688888888888889\n",
            "Precision : 0.889795918367347\n",
            "F1-Score: 0.9245647969052225\n",
            "Recall: 0.8786764705882353\n",
            "Precision : 0.9755102040816327\n"
          ],
          "name": "stdout"
        }
      ]
    },
    {
      "cell_type": "markdown",
      "metadata": {
        "id": "KXuNOaOaB5gk"
      },
      "source": [
        "# Final results "
      ]
    },
    {
      "cell_type": "code",
      "metadata": {
        "id": "lvzkeom-3OWn"
      },
      "source": [
        "def Average(lst): \n",
        "    return sum(lst) / len(lst)"
      ],
      "execution_count": null,
      "outputs": []
    },
    {
      "cell_type": "code",
      "metadata": {
        "colab": {
          "base_uri": "https://localhost:8080/"
        },
        "id": "jUer5TPcqEc2",
        "outputId": "587d36d5-5a3c-49d7-c43d-16ca1e03ee5c"
      },
      "source": [
        "for i in range(4):\n",
        "  print('For the class : {}'.format(classes_names[i]))\n",
        "  accuracy,precision,recall,sensitivity,specifity = classes[i]['accuracy'],classes[i]['precision'],classes[i]['recall'],classes[i]['sensitivity'],classes[i]['specifity']\n",
        "  print('The accuracy of the model: {} +/- {}'.format(Average(accuracy),(Average(abs(accuracy-Average(accuracy))**2))**0.5 )  )\n",
        "  print('The precision of the model: {} +/- {}'.format(Average(precision),(Average(abs(precision-Average(precision))**2))**0.5 )  )\n",
        "  print('The recall of the model: {} +/- {}'.format(Average(recall),(Average(abs(recall-Average(recall))**2))**0.5 )  )\n",
        "  print('The sensitivity of the model: {} +/- {}'.format(Average(sensitivity),(Average(abs(sensitivity-Average(sensitivity))**2))**0.5 )  )\n",
        "  print('The specifity of the model: {} +/- {}'.format(Average(specifity),(Average(abs(specifity-Average(specifity))**2))**0.5 )  )"
      ],
      "execution_count": null,
      "outputs": [
        {
          "output_type": "stream",
          "text": [
            "For the class : covid-19\n",
            "The accuracy of the model: 0.9964102564102563 +/- 0.0011467015269229733\n",
            "The precision of the model: 0.9951388888888889 +/- 0.0015528249843748485\n",
            "The recall of the model: 1.0 +/- 0.0\n",
            "The sensitivity of the model: 1.0 +/- 0.0\n",
            "The specifity of the model: 0.9864786598948587 +/- 0.004233845185945854\n",
            "For the class : normal\n",
            "The accuracy of the model: 0.9712820512820514 +/- 0.004918801562372038\n",
            "The precision of the model: 0.9755102040816325 +/- 0.0040816326530612\n",
            "The recall of the model: 0.9862705661092238 +/- 0.0050397572695213685\n",
            "The sensitivity of the model: 0.9862705661092238 +/- 0.0050397572695213685\n",
            "The specifity of the model: 0.9275355675623174 +/- 0.011108409945849216\n",
            "For the class : pneumonia bacterial\n",
            "The accuracy of the model: 0.9035897435897436 +/- 0.006567306910187561\n",
            "The precision of the model: 0.8938775510204082 +/- 0.008817334283548112\n",
            "The recall of the model: 0.9762699341409582 +/- 0.00535334434676477\n",
            "The sensitivity of the model: 0.9762699341409582 +/- 0.00535334434676477\n",
            "The specifity of the model: 0.7420547193756123 +/- 0.015019993745699596\n",
            "For the class : pneumonia viral\n",
            "The accuracy of the model: 0.8805128205128204 +/- 0.006745100737418438\n",
            "The precision of the model: 0.970748299319728 +/- 0.008631685401666343\n",
            "The recall of the model: 0.8825278656994757 +/- 0.004673258639066349\n",
            "The sensitivity of the model: 0.8825278656994757 +/- 0.004673258639066349\n",
            "The specifity of the model: 0.8722560700104484 +/- 0.0314279251125547\n"
          ],
          "name": "stdout"
        }
      ]
    },
    {
      "cell_type": "code",
      "metadata": {
        "colab": {
          "base_uri": "https://localhost:8080/"
        },
        "id": "a0CVUBbiqHzT",
        "outputId": "bcb9a58b-6572-4c24-bf76-d35ca2ef9c70"
      },
      "source": [
        "accuracy, precision, recall, sensitivity, specifity = 0,0,0,0,0\n",
        "for i in range(4):\n",
        "  accuracy += np.array(classes[i]['accuracy']).mean()  \n",
        "  precision += np.array(classes[i]['precision']).mean()\n",
        "  recall += np.array(classes[i]['recall']).mean()\n",
        "  sensitivity += np.array(classes[i]['sensitivity']).mean()\n",
        "  specifity += np.array(classes[i]['specifity']).mean()\n",
        "\n",
        "accuracy,precision,recall,sensitivity,specifity = accuracy/4,precision/4,recall/4,sensitivity/4,specifity/4 \n",
        "\n",
        "\n",
        "print('The accuracy of the model: {}'.format((accuracy) ) )\n",
        "print('The precision of the model: {}'.format((precision) ) )\n",
        "print('The recall of the model: {}'.format((recall) ) )\n",
        "print('The sensitivity of the model: {}'.format((sensitivity) ) )\n",
        "print('The specifity of the model: {}'.format((specifity) ) )"
      ],
      "execution_count": null,
      "outputs": [
        {
          "output_type": "stream",
          "text": [
            "The accuracy of the model: 0.9712820512820514\n",
            "The precision of the model: 0.9588187358276644\n",
            "The recall of the model: 0.9612670914874144\n",
            "The sensitivity of the model: 0.9612670914874144\n",
            "The specifity of the model: 0.8820812542108092\n"
          ],
          "name": "stdout"
        }
      ]
    }
  ]
}